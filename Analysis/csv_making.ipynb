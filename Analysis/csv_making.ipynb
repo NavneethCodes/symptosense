{
 "cells": [
  {
   "cell_type": "code",
   "execution_count": null,
   "metadata": {},
   "outputs": [],
   "source": [
    "import pandas as pd\n",
    "df = pd.read_csv(\"..\\dataset\\symptoSense.csv\")\n",
    "df_unique = df.drop_duplicates(subset='prognosis', keep='first')\n",
    "df_unique.to_csv('unique_prognosis_data.csv', index=False)\n",
    "print(f\"Number of rows after removing duplicates: {df_unique.shape[0]}\")\n"
   ]
  },
  {
   "cell_type": "code",
   "execution_count": null,
   "metadata": {},
   "outputs": [],
   "source": [
    "df_unique = pd.read_csv(\"../dataset/unique_symptoSense.csv\")\n",
    "prognosis_symptom_mapping = {}\n",
    "for index, row in df_unique.iterrows():\n",
    "    prognosis = row['prognosis']\n",
    "    symptoms = row[row == 1].index.tolist()\n",
    "    if 'prognosis' in symptoms:\n",
    "        symptoms.remove('prognosis')\n",
    "    prognosis_symptom_mapping[prognosis] = symptoms\n",
    "with open('prognosis_symptoms.txt', 'w') as f:\n",
    "    for prognosis, symptoms in prognosis_symptom_mapping.items():\n",
    "        f.write(f\"{prognosis} -> {', '.join(symptoms)}\\n\")\n",
    "for prognosis, symptoms in prognosis_symptom_mapping.items():\n",
    "    print(f\"{prognosis} -> {', '.join(symptoms)}\")\n"
   ]
  },
  {
   "cell_type": "code",
   "execution_count": null,
   "metadata": {},
   "outputs": [],
   "source": [
    "import pandas as pd\n",
    "table_data = []\n",
    "for index, row in df_unique.iterrows():\n",
    "    prognosis = row['prognosis']\n",
    "    symptoms = row[row == 1].index.tolist()\n",
    "    if 'prognosis' in symptoms:\n",
    "        symptoms.remove('prognosis')\n",
    "    table_data.append([prognosis, ', '.join(symptoms)])\n",
    "df_table = pd.DataFrame(table_data, columns=['Prognosis', 'Symptoms'])\n",
    "print(df_table)\n",
    "df_table.to_csv('prognosis_symptoms_table.csv', index=False)\n",
    "print(df_table.to_string(index=False))\n"
   ]
  },
  {
   "cell_type": "code",
   "execution_count": null,
   "metadata": {},
   "outputs": [],
   "source": [
    "df = pd.read_csv('./prognosis_symptoms_table.csv')\n",
    "df_symptoms_split = df['Symptoms'].str.split(',', expand=True)\n",
    "df_final = pd.concat([df['Prognosis'], df_symptoms_split], axis=1)\n",
    "df_final.to_csv('split_symptoms.csv', index=False)\n",
    "print(\"Symptoms have been split into separate columns successfully.\")"
   ]
  },
  {
   "cell_type": "code",
   "execution_count": null,
   "metadata": {},
   "outputs": [],
   "source": []
  }
 ],
 "metadata": {
  "kernelspec": {
   "display_name": "env",
   "language": "python",
   "name": "python3"
  },
  "language_info": {
   "codemirror_mode": {
    "name": "ipython",
    "version": 3
   },
   "file_extension": ".py",
   "mimetype": "text/x-python",
   "name": "python",
   "nbconvert_exporter": "python",
   "pygments_lexer": "ipython3",
   "version": "3.8.10"
  }
 },
 "nbformat": 4,
 "nbformat_minor": 2
}
